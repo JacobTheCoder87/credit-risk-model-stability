{
 "cells": [
  {
   "cell_type": "code",
   "execution_count": 2,
   "metadata": {},
   "outputs": [],
   "source": [
    "import pandas as pd"
   ]
  },
  {
   "cell_type": "code",
   "execution_count": 5,
   "metadata": {},
   "outputs": [],
   "source": [
    "df = pd.read_csv(\"/Users/carlosm/Documents/GitHubTKH/credit-risk-model/credit-risk-model-stability/Data/feature_definitions.csv\")"
   ]
  },
  {
   "cell_type": "code",
   "execution_count": 6,
   "metadata": {},
   "outputs": [
    {
     "data": {
      "text/html": [
       "<div>\n",
       "<style scoped>\n",
       "    .dataframe tbody tr th:only-of-type {\n",
       "        vertical-align: middle;\n",
       "    }\n",
       "\n",
       "    .dataframe tbody tr th {\n",
       "        vertical-align: top;\n",
       "    }\n",
       "\n",
       "    .dataframe thead th {\n",
       "        text-align: right;\n",
       "    }\n",
       "</style>\n",
       "<table border=\"1\" class=\"dataframe\">\n",
       "  <thead>\n",
       "    <tr style=\"text-align: right;\">\n",
       "      <th></th>\n",
       "      <th>Variable</th>\n",
       "      <th>Description</th>\n",
       "    </tr>\n",
       "  </thead>\n",
       "  <tbody>\n",
       "    <tr>\n",
       "      <th>0</th>\n",
       "      <td>actualdpd_943P</td>\n",
       "      <td>Days Past Due (DPD) of previous contract (actu...</td>\n",
       "    </tr>\n",
       "    <tr>\n",
       "      <th>1</th>\n",
       "      <td>actualdpdtolerance_344P</td>\n",
       "      <td>DPD of client with tolerance.</td>\n",
       "    </tr>\n",
       "    <tr>\n",
       "      <th>2</th>\n",
       "      <td>addres_district_368M</td>\n",
       "      <td>District of the person's address.</td>\n",
       "    </tr>\n",
       "    <tr>\n",
       "      <th>3</th>\n",
       "      <td>addres_role_871L</td>\n",
       "      <td>Role of person's address.</td>\n",
       "    </tr>\n",
       "    <tr>\n",
       "      <th>4</th>\n",
       "      <td>addres_zip_823M</td>\n",
       "      <td>Zip code of the address.</td>\n",
       "    </tr>\n",
       "  </tbody>\n",
       "</table>\n",
       "</div>"
      ],
      "text/plain": [
       "                  Variable                                        Description\n",
       "0           actualdpd_943P  Days Past Due (DPD) of previous contract (actu...\n",
       "1  actualdpdtolerance_344P                      DPD of client with tolerance.\n",
       "2     addres_district_368M                  District of the person's address.\n",
       "3         addres_role_871L                          Role of person's address.\n",
       "4          addres_zip_823M                           Zip code of the address."
      ]
     },
     "execution_count": 6,
     "metadata": {},
     "output_type": "execute_result"
    }
   ],
   "source": [
    "df.head()"
   ]
  },
  {
   "cell_type": "code",
   "execution_count": 14,
   "metadata": {},
   "outputs": [
    {
     "data": {
      "text/html": [
       "<div>\n",
       "<style scoped>\n",
       "    .dataframe tbody tr th:only-of-type {\n",
       "        vertical-align: middle;\n",
       "    }\n",
       "\n",
       "    .dataframe tbody tr th {\n",
       "        vertical-align: top;\n",
       "    }\n",
       "\n",
       "    .dataframe thead th {\n",
       "        text-align: right;\n",
       "    }\n",
       "</style>\n",
       "<table border=\"1\" class=\"dataframe\">\n",
       "  <thead>\n",
       "    <tr style=\"text-align: right;\">\n",
       "      <th></th>\n",
       "      <th>Variable</th>\n",
       "      <th>Description</th>\n",
       "    </tr>\n",
       "  </thead>\n",
       "  <tbody>\n",
       "    <tr>\n",
       "      <th>43</th>\n",
       "      <td>byoccupationinc_3656910L</td>\n",
       "      <td>Applicant's income from previous applications.</td>\n",
       "    </tr>\n",
       "    <tr>\n",
       "      <th>76</th>\n",
       "      <td>commnoinclast6m_3546845L</td>\n",
       "      <td>Number of communications indicating low income...</td>\n",
       "    </tr>\n",
       "    <tr>\n",
       "      <th>205</th>\n",
       "      <td>incometype_1044T</td>\n",
       "      <td>Type of income of the person</td>\n",
       "    </tr>\n",
       "    <tr>\n",
       "      <th>238</th>\n",
       "      <td>lastotherinc_902A</td>\n",
       "      <td>Amount of other income reported by the client ...</td>\n",
       "    </tr>\n",
       "    <tr>\n",
       "      <th>251</th>\n",
       "      <td>maininc_215A</td>\n",
       "      <td>Client's primary income amount.</td>\n",
       "    </tr>\n",
       "    <tr>\n",
       "      <th>252</th>\n",
       "      <td>mainoccupationinc_384A</td>\n",
       "      <td>Amount of the main income of the client.</td>\n",
       "    </tr>\n",
       "    <tr>\n",
       "      <th>253</th>\n",
       "      <td>mainoccupationinc_437A</td>\n",
       "      <td>Client's main income amount in their previous ...</td>\n",
       "    </tr>\n",
       "  </tbody>\n",
       "</table>\n",
       "</div>"
      ],
      "text/plain": [
       "                     Variable  \\\n",
       "43   byoccupationinc_3656910L   \n",
       "76   commnoinclast6m_3546845L   \n",
       "205          incometype_1044T   \n",
       "238         lastotherinc_902A   \n",
       "251              maininc_215A   \n",
       "252    mainoccupationinc_384A   \n",
       "253    mainoccupationinc_437A   \n",
       "\n",
       "                                           Description  \n",
       "43      Applicant's income from previous applications.  \n",
       "76   Number of communications indicating low income...  \n",
       "205                       Type of income of the person  \n",
       "238  Amount of other income reported by the client ...  \n",
       "251                    Client's primary income amount.  \n",
       "252           Amount of the main income of the client.  \n",
       "253  Client's main income amount in their previous ...  "
      ]
     },
     "execution_count": 14,
     "metadata": {},
     "output_type": "execute_result"
    }
   ],
   "source": [
    "filtered_df = df[df[\"Description\"].str.contains(\"income\" or \"credit\")]\n",
    "\n",
    "filtered_df\n"
   ]
  }
 ],
 "metadata": {
  "kernelspec": {
   "display_name": "phase1",
   "language": "python",
   "name": "python3"
  },
  "language_info": {
   "codemirror_mode": {
    "name": "ipython",
    "version": 3
   },
   "file_extension": ".py",
   "mimetype": "text/x-python",
   "name": "python",
   "nbconvert_exporter": "python",
   "pygments_lexer": "ipython3",
   "version": "3.9.18"
  },
  "orig_nbformat": 4
 },
 "nbformat": 4,
 "nbformat_minor": 2
}
