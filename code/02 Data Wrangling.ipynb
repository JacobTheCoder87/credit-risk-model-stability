{
 "cells": [
  {
   "cell_type": "code",
   "execution_count": 1,
   "metadata": {},
   "outputs": [],
   "source": [
    "import pandas as pd \n",
    "import numpy as np "
   ]
  },
  {
   "cell_type": "code",
   "execution_count": 2,
   "metadata": {},
   "outputs": [],
   "source": [
    "df = pd.read_csv('../data/processed/cleaned_sampled_df.csv')"
   ]
  },
  {
   "cell_type": "code",
   "execution_count": 3,
   "metadata": {},
   "outputs": [
    {
     "data": {
      "text/html": [
       "<div>\n",
       "<style scoped>\n",
       "    .dataframe tbody tr th:only-of-type {\n",
       "        vertical-align: middle;\n",
       "    }\n",
       "\n",
       "    .dataframe tbody tr th {\n",
       "        vertical-align: top;\n",
       "    }\n",
       "\n",
       "    .dataframe thead th {\n",
       "        text-align: right;\n",
       "    }\n",
       "</style>\n",
       "<table border=\"1\" class=\"dataframe\">\n",
       "  <thead>\n",
       "    <tr style=\"text-align: right;\">\n",
       "      <th></th>\n",
       "      <th>case_id</th>\n",
       "      <th>annuity_780A</th>\n",
       "      <th>cntincpaycont9m_3716944L</th>\n",
       "      <th>cntpmts24_3658933L</th>\n",
       "      <th>maininc_215A</th>\n",
       "      <th>downpmt_116A</th>\n",
       "      <th>avgdbddpdlast24m_3658932P</th>\n",
       "      <th>empl_employedtotal_800L</th>\n",
       "      <th>date_decision</th>\n",
       "      <th>MONTH</th>\n",
       "      <th>WEEK_NUM</th>\n",
       "      <th>target</th>\n",
       "      <th>avgdbddpdlast3m_4187120P</th>\n",
       "    </tr>\n",
       "  </thead>\n",
       "  <tbody>\n",
       "    <tr>\n",
       "      <th>0</th>\n",
       "      <td>1916357</td>\n",
       "      <td>6747.2000</td>\n",
       "      <td>0.0</td>\n",
       "      <td>0.0</td>\n",
       "      <td>28000.0</td>\n",
       "      <td>0.0</td>\n",
       "      <td>-5.0</td>\n",
       "      <td>Missing</td>\n",
       "      <td>2020-09-03</td>\n",
       "      <td>202009</td>\n",
       "      <td>87</td>\n",
       "      <td>0</td>\n",
       "      <td>NaN</td>\n",
       "    </tr>\n",
       "    <tr>\n",
       "      <th>1</th>\n",
       "      <td>982288</td>\n",
       "      <td>2206.6000</td>\n",
       "      <td>NaN</td>\n",
       "      <td>10.0</td>\n",
       "      <td>40000.0</td>\n",
       "      <td>3000.0</td>\n",
       "      <td>-5.0</td>\n",
       "      <td>Missing</td>\n",
       "      <td>2020-05-13</td>\n",
       "      <td>202005</td>\n",
       "      <td>71</td>\n",
       "      <td>0</td>\n",
       "      <td>NaN</td>\n",
       "    </tr>\n",
       "    <tr>\n",
       "      <th>2</th>\n",
       "      <td>1919445</td>\n",
       "      <td>3342.4001</td>\n",
       "      <td>3.0</td>\n",
       "      <td>15.0</td>\n",
       "      <td>56000.0</td>\n",
       "      <td>0.0</td>\n",
       "      <td>-5.0</td>\n",
       "      <td>Missing</td>\n",
       "      <td>2020-09-05</td>\n",
       "      <td>202009</td>\n",
       "      <td>87</td>\n",
       "      <td>0</td>\n",
       "      <td>NaN</td>\n",
       "    </tr>\n",
       "    <tr>\n",
       "      <th>3</th>\n",
       "      <td>1471876</td>\n",
       "      <td>3141.4001</td>\n",
       "      <td>9.0</td>\n",
       "      <td>12.0</td>\n",
       "      <td>20000.0</td>\n",
       "      <td>0.0</td>\n",
       "      <td>-6.0</td>\n",
       "      <td>Missing</td>\n",
       "      <td>2019-08-02</td>\n",
       "      <td>201908</td>\n",
       "      <td>30</td>\n",
       "      <td>0</td>\n",
       "      <td>-3.0</td>\n",
       "    </tr>\n",
       "    <tr>\n",
       "      <th>4</th>\n",
       "      <td>255991</td>\n",
       "      <td>6327.6000</td>\n",
       "      <td>16.0</td>\n",
       "      <td>14.0</td>\n",
       "      <td>40000.0</td>\n",
       "      <td>0.0</td>\n",
       "      <td>-8.0</td>\n",
       "      <td>Missing</td>\n",
       "      <td>2020-09-22</td>\n",
       "      <td>202009</td>\n",
       "      <td>90</td>\n",
       "      <td>0</td>\n",
       "      <td>-12.0</td>\n",
       "    </tr>\n",
       "  </tbody>\n",
       "</table>\n",
       "</div>"
      ],
      "text/plain": [
       "   case_id  annuity_780A  cntincpaycont9m_3716944L  cntpmts24_3658933L  \\\n",
       "0  1916357     6747.2000                       0.0                 0.0   \n",
       "1   982288     2206.6000                       NaN                10.0   \n",
       "2  1919445     3342.4001                       3.0                15.0   \n",
       "3  1471876     3141.4001                       9.0                12.0   \n",
       "4   255991     6327.6000                      16.0                14.0   \n",
       "\n",
       "   maininc_215A  downpmt_116A  avgdbddpdlast24m_3658932P  \\\n",
       "0       28000.0           0.0                       -5.0   \n",
       "1       40000.0        3000.0                       -5.0   \n",
       "2       56000.0           0.0                       -5.0   \n",
       "3       20000.0           0.0                       -6.0   \n",
       "4       40000.0           0.0                       -8.0   \n",
       "\n",
       "  empl_employedtotal_800L date_decision   MONTH  WEEK_NUM  target  \\\n",
       "0                 Missing    2020-09-03  202009        87       0   \n",
       "1                 Missing    2020-05-13  202005        71       0   \n",
       "2                 Missing    2020-09-05  202009        87       0   \n",
       "3                 Missing    2019-08-02  201908        30       0   \n",
       "4                 Missing    2020-09-22  202009        90       0   \n",
       "\n",
       "   avgdbddpdlast3m_4187120P  \n",
       "0                       NaN  \n",
       "1                       NaN  \n",
       "2                       NaN  \n",
       "3                      -3.0  \n",
       "4                     -12.0  "
      ]
     },
     "execution_count": 3,
     "metadata": {},
     "output_type": "execute_result"
    }
   ],
   "source": [
    "df.head(5)"
   ]
  },
  {
   "cell_type": "code",
   "execution_count": 4,
   "metadata": {},
   "outputs": [
    {
     "data": {
      "text/plain": [
       "(50000, 13)"
      ]
     },
     "execution_count": 4,
     "metadata": {},
     "output_type": "execute_result"
    }
   ],
   "source": [
    "df.shape"
   ]
  },
  {
   "cell_type": "markdown",
   "metadata": {},
   "source": [
    "Based on our EDA, We would want to drop the following columns \"cntincpaycont9m_3716944L, avgdbddpdlast3m_4187120P and also Unnamed: 0\" This should help to train our machine learning model in the next stage."
   ]
  },
  {
   "cell_type": "code",
   "execution_count": 5,
   "metadata": {},
   "outputs": [],
   "source": [
    "new_df = df.drop(columns= ['cntincpaycont9m_3716944L', 'avgdbddpdlast3m_4187120P'], axis = 1)"
   ]
  },
  {
   "cell_type": "code",
   "execution_count": 6,
   "metadata": {},
   "outputs": [
    {
     "data": {
      "text/html": [
       "<div>\n",
       "<style scoped>\n",
       "    .dataframe tbody tr th:only-of-type {\n",
       "        vertical-align: middle;\n",
       "    }\n",
       "\n",
       "    .dataframe tbody tr th {\n",
       "        vertical-align: top;\n",
       "    }\n",
       "\n",
       "    .dataframe thead th {\n",
       "        text-align: right;\n",
       "    }\n",
       "</style>\n",
       "<table border=\"1\" class=\"dataframe\">\n",
       "  <thead>\n",
       "    <tr style=\"text-align: right;\">\n",
       "      <th></th>\n",
       "      <th>case_id</th>\n",
       "      <th>annuity_780A</th>\n",
       "      <th>cntpmts24_3658933L</th>\n",
       "      <th>maininc_215A</th>\n",
       "      <th>downpmt_116A</th>\n",
       "      <th>avgdbddpdlast24m_3658932P</th>\n",
       "      <th>empl_employedtotal_800L</th>\n",
       "      <th>date_decision</th>\n",
       "      <th>MONTH</th>\n",
       "      <th>WEEK_NUM</th>\n",
       "      <th>target</th>\n",
       "    </tr>\n",
       "  </thead>\n",
       "  <tbody>\n",
       "    <tr>\n",
       "      <th>0</th>\n",
       "      <td>1916357</td>\n",
       "      <td>6747.2000</td>\n",
       "      <td>0.0</td>\n",
       "      <td>28000.0</td>\n",
       "      <td>0.0</td>\n",
       "      <td>-5.0</td>\n",
       "      <td>Missing</td>\n",
       "      <td>2020-09-03</td>\n",
       "      <td>202009</td>\n",
       "      <td>87</td>\n",
       "      <td>0</td>\n",
       "    </tr>\n",
       "    <tr>\n",
       "      <th>1</th>\n",
       "      <td>982288</td>\n",
       "      <td>2206.6000</td>\n",
       "      <td>10.0</td>\n",
       "      <td>40000.0</td>\n",
       "      <td>3000.0</td>\n",
       "      <td>-5.0</td>\n",
       "      <td>Missing</td>\n",
       "      <td>2020-05-13</td>\n",
       "      <td>202005</td>\n",
       "      <td>71</td>\n",
       "      <td>0</td>\n",
       "    </tr>\n",
       "    <tr>\n",
       "      <th>2</th>\n",
       "      <td>1919445</td>\n",
       "      <td>3342.4001</td>\n",
       "      <td>15.0</td>\n",
       "      <td>56000.0</td>\n",
       "      <td>0.0</td>\n",
       "      <td>-5.0</td>\n",
       "      <td>Missing</td>\n",
       "      <td>2020-09-05</td>\n",
       "      <td>202009</td>\n",
       "      <td>87</td>\n",
       "      <td>0</td>\n",
       "    </tr>\n",
       "    <tr>\n",
       "      <th>3</th>\n",
       "      <td>1471876</td>\n",
       "      <td>3141.4001</td>\n",
       "      <td>12.0</td>\n",
       "      <td>20000.0</td>\n",
       "      <td>0.0</td>\n",
       "      <td>-6.0</td>\n",
       "      <td>Missing</td>\n",
       "      <td>2019-08-02</td>\n",
       "      <td>201908</td>\n",
       "      <td>30</td>\n",
       "      <td>0</td>\n",
       "    </tr>\n",
       "    <tr>\n",
       "      <th>4</th>\n",
       "      <td>255991</td>\n",
       "      <td>6327.6000</td>\n",
       "      <td>14.0</td>\n",
       "      <td>40000.0</td>\n",
       "      <td>0.0</td>\n",
       "      <td>-8.0</td>\n",
       "      <td>Missing</td>\n",
       "      <td>2020-09-22</td>\n",
       "      <td>202009</td>\n",
       "      <td>90</td>\n",
       "      <td>0</td>\n",
       "    </tr>\n",
       "  </tbody>\n",
       "</table>\n",
       "</div>"
      ],
      "text/plain": [
       "   case_id  annuity_780A  cntpmts24_3658933L  maininc_215A  downpmt_116A  \\\n",
       "0  1916357     6747.2000                 0.0       28000.0           0.0   \n",
       "1   982288     2206.6000                10.0       40000.0        3000.0   \n",
       "2  1919445     3342.4001                15.0       56000.0           0.0   \n",
       "3  1471876     3141.4001                12.0       20000.0           0.0   \n",
       "4   255991     6327.6000                14.0       40000.0           0.0   \n",
       "\n",
       "   avgdbddpdlast24m_3658932P empl_employedtotal_800L date_decision   MONTH  \\\n",
       "0                       -5.0                 Missing    2020-09-03  202009   \n",
       "1                       -5.0                 Missing    2020-05-13  202005   \n",
       "2                       -5.0                 Missing    2020-09-05  202009   \n",
       "3                       -6.0                 Missing    2019-08-02  201908   \n",
       "4                       -8.0                 Missing    2020-09-22  202009   \n",
       "\n",
       "   WEEK_NUM  target  \n",
       "0        87       0  \n",
       "1        71       0  \n",
       "2        87       0  \n",
       "3        30       0  \n",
       "4        90       0  "
      ]
     },
     "execution_count": 6,
     "metadata": {},
     "output_type": "execute_result"
    }
   ],
   "source": [
    "new_df.head(5)"
   ]
  },
  {
   "cell_type": "code",
   "execution_count": 7,
   "metadata": {},
   "outputs": [
    {
     "data": {
      "text/plain": [
       "(50000, 11)"
      ]
     },
     "execution_count": 7,
     "metadata": {},
     "output_type": "execute_result"
    }
   ],
   "source": [
    "new_df.shape"
   ]
  },
  {
   "cell_type": "code",
   "execution_count": 8,
   "metadata": {},
   "outputs": [
    {
     "data": {
      "text/plain": [
       "case_id                      0\n",
       "annuity_780A                 0\n",
       "cntpmts24_3658933L           0\n",
       "maininc_215A                 0\n",
       "downpmt_116A                 0\n",
       "avgdbddpdlast24m_3658932P    0\n",
       "empl_employedtotal_800L      0\n",
       "date_decision                0\n",
       "MONTH                        0\n",
       "WEEK_NUM                     0\n",
       "target                       0\n",
       "dtype: int64"
      ]
     },
     "execution_count": 8,
     "metadata": {},
     "output_type": "execute_result"
    }
   ],
   "source": [
    "new_df.isna().sum()"
   ]
  },
  {
   "cell_type": "markdown",
   "metadata": {},
   "source": [
    "We have decided that we would be dropping the columns \"date_decision, MONTH, case_id and WEEK_NUM\" this is because this was originally provided to us as part of our train base. We don't think those columns are relevant for our machine learning model to try to predict on. Just having the target column is more than enough. We don't need the date, month and week of when the decision was made on whether someone defaulted or not."
   ]
  },
  {
   "cell_type": "markdown",
   "metadata": {},
   "source": [
    "Additionally, we will also be dropping the \"case_id\" because it is a unique identifier that may cause our machine learning model to overfit to our data and would not be relevant towards helping us make our predictions."
   ]
  },
  {
   "cell_type": "code",
   "execution_count": 9,
   "metadata": {},
   "outputs": [],
   "source": [
    "new_df.drop(columns= ['date_decision', 'MONTH', 'case_id', 'WEEK_NUM'], axis = 1, inplace = True)"
   ]
  },
  {
   "cell_type": "code",
   "execution_count": 10,
   "metadata": {},
   "outputs": [
    {
     "data": {
      "text/html": [
       "<div>\n",
       "<style scoped>\n",
       "    .dataframe tbody tr th:only-of-type {\n",
       "        vertical-align: middle;\n",
       "    }\n",
       "\n",
       "    .dataframe tbody tr th {\n",
       "        vertical-align: top;\n",
       "    }\n",
       "\n",
       "    .dataframe thead th {\n",
       "        text-align: right;\n",
       "    }\n",
       "</style>\n",
       "<table border=\"1\" class=\"dataframe\">\n",
       "  <thead>\n",
       "    <tr style=\"text-align: right;\">\n",
       "      <th></th>\n",
       "      <th>annuity_780A</th>\n",
       "      <th>cntpmts24_3658933L</th>\n",
       "      <th>maininc_215A</th>\n",
       "      <th>downpmt_116A</th>\n",
       "      <th>avgdbddpdlast24m_3658932P</th>\n",
       "      <th>empl_employedtotal_800L</th>\n",
       "      <th>target</th>\n",
       "    </tr>\n",
       "  </thead>\n",
       "  <tbody>\n",
       "    <tr>\n",
       "      <th>0</th>\n",
       "      <td>6747.2000</td>\n",
       "      <td>0.0</td>\n",
       "      <td>28000.0</td>\n",
       "      <td>0.0</td>\n",
       "      <td>-5.0</td>\n",
       "      <td>Missing</td>\n",
       "      <td>0</td>\n",
       "    </tr>\n",
       "    <tr>\n",
       "      <th>1</th>\n",
       "      <td>2206.6000</td>\n",
       "      <td>10.0</td>\n",
       "      <td>40000.0</td>\n",
       "      <td>3000.0</td>\n",
       "      <td>-5.0</td>\n",
       "      <td>Missing</td>\n",
       "      <td>0</td>\n",
       "    </tr>\n",
       "    <tr>\n",
       "      <th>2</th>\n",
       "      <td>3342.4001</td>\n",
       "      <td>15.0</td>\n",
       "      <td>56000.0</td>\n",
       "      <td>0.0</td>\n",
       "      <td>-5.0</td>\n",
       "      <td>Missing</td>\n",
       "      <td>0</td>\n",
       "    </tr>\n",
       "    <tr>\n",
       "      <th>3</th>\n",
       "      <td>3141.4001</td>\n",
       "      <td>12.0</td>\n",
       "      <td>20000.0</td>\n",
       "      <td>0.0</td>\n",
       "      <td>-6.0</td>\n",
       "      <td>Missing</td>\n",
       "      <td>0</td>\n",
       "    </tr>\n",
       "    <tr>\n",
       "      <th>4</th>\n",
       "      <td>6327.6000</td>\n",
       "      <td>14.0</td>\n",
       "      <td>40000.0</td>\n",
       "      <td>0.0</td>\n",
       "      <td>-8.0</td>\n",
       "      <td>Missing</td>\n",
       "      <td>0</td>\n",
       "    </tr>\n",
       "  </tbody>\n",
       "</table>\n",
       "</div>"
      ],
      "text/plain": [
       "   annuity_780A  cntpmts24_3658933L  maininc_215A  downpmt_116A  \\\n",
       "0     6747.2000                 0.0       28000.0           0.0   \n",
       "1     2206.6000                10.0       40000.0        3000.0   \n",
       "2     3342.4001                15.0       56000.0           0.0   \n",
       "3     3141.4001                12.0       20000.0           0.0   \n",
       "4     6327.6000                14.0       40000.0           0.0   \n",
       "\n",
       "   avgdbddpdlast24m_3658932P empl_employedtotal_800L  target  \n",
       "0                       -5.0                 Missing       0  \n",
       "1                       -5.0                 Missing       0  \n",
       "2                       -5.0                 Missing       0  \n",
       "3                       -6.0                 Missing       0  \n",
       "4                       -8.0                 Missing       0  "
      ]
     },
     "execution_count": 10,
     "metadata": {},
     "output_type": "execute_result"
    }
   ],
   "source": [
    "new_df.head(5)"
   ]
  },
  {
   "cell_type": "code",
   "execution_count": 11,
   "metadata": {},
   "outputs": [
    {
     "data": {
      "text/plain": [
       "(50000, 7)"
      ]
     },
     "execution_count": 11,
     "metadata": {},
     "output_type": "execute_result"
    }
   ],
   "source": [
    "new_df.shape"
   ]
  },
  {
   "cell_type": "code",
   "execution_count": 12,
   "metadata": {},
   "outputs": [],
   "source": [
    "new_df.to_csv('../data/processed/cleaned_sampled_df.csv', index = False)"
   ]
  }
 ],
 "metadata": {
  "kernelspec": {
   "display_name": "phase1",
   "language": "python",
   "name": "python3"
  },
  "language_info": {
   "codemirror_mode": {
    "name": "ipython",
    "version": 3
   },
   "file_extension": ".py",
   "mimetype": "text/x-python",
   "name": "python",
   "nbconvert_exporter": "python",
   "pygments_lexer": "ipython3",
   "version": "3.9.18"
  }
 },
 "nbformat": 4,
 "nbformat_minor": 2
}
