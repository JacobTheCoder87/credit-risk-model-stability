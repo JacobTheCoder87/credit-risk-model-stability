{
 "cells": [
  {
   "cell_type": "code",
   "execution_count": 2,
   "metadata": {},
   "outputs": [],
   "source": [
    "import pandas as pd"
   ]
  },
  {
   "cell_type": "code",
   "execution_count": 3,
   "metadata": {},
   "outputs": [],
   "source": [
    "df = pd.read_csv(\"/Users/carlosm/Documents/GitHubTKH/credit-risk-model/credit-risk-model-stability/Data/feature_definitions.csv\")"
   ]
  },
  {
   "cell_type": "code",
   "execution_count": 6,
   "metadata": {},
   "outputs": [
    {
     "data": {
      "text/html": [
       "<div>\n",
       "<style scoped>\n",
       "    .dataframe tbody tr th:only-of-type {\n",
       "        vertical-align: middle;\n",
       "    }\n",
       "\n",
       "    .dataframe tbody tr th {\n",
       "        vertical-align: top;\n",
       "    }\n",
       "\n",
       "    .dataframe thead th {\n",
       "        text-align: right;\n",
       "    }\n",
       "</style>\n",
       "<table border=\"1\" class=\"dataframe\">\n",
       "  <thead>\n",
       "    <tr style=\"text-align: right;\">\n",
       "      <th></th>\n",
       "      <th>Variable</th>\n",
       "      <th>Description</th>\n",
       "    </tr>\n",
       "  </thead>\n",
       "  <tbody>\n",
       "    <tr>\n",
       "      <th>0</th>\n",
       "      <td>actualdpd_943P</td>\n",
       "      <td>days past due (dpd) of previous contract (actu...</td>\n",
       "    </tr>\n",
       "    <tr>\n",
       "      <th>1</th>\n",
       "      <td>actualdpdtolerance_344P</td>\n",
       "      <td>dpd of client with tolerance.</td>\n",
       "    </tr>\n",
       "    <tr>\n",
       "      <th>2</th>\n",
       "      <td>addres_district_368M</td>\n",
       "      <td>district of the person's address.</td>\n",
       "    </tr>\n",
       "    <tr>\n",
       "      <th>3</th>\n",
       "      <td>addres_role_871L</td>\n",
       "      <td>role of person's address.</td>\n",
       "    </tr>\n",
       "    <tr>\n",
       "      <th>4</th>\n",
       "      <td>addres_zip_823M</td>\n",
       "      <td>zip code of the address.</td>\n",
       "    </tr>\n",
       "  </tbody>\n",
       "</table>\n",
       "</div>"
      ],
      "text/plain": [
       "                  Variable                                        Description\n",
       "0           actualdpd_943P  days past due (dpd) of previous contract (actu...\n",
       "1  actualdpdtolerance_344P                      dpd of client with tolerance.\n",
       "2     addres_district_368M                  district of the person's address.\n",
       "3         addres_role_871L                          role of person's address.\n",
       "4          addres_zip_823M                           zip code of the address."
      ]
     },
     "execution_count": 6,
     "metadata": {},
     "output_type": "execute_result"
    }
   ],
   "source": [
    "df.head()"
   ]
  },
  {
   "cell_type": "code",
   "execution_count": 5,
   "metadata": {},
   "outputs": [],
   "source": [
    "df[\"Description\"] = df[\"Description\"].str.lower()"
   ]
  },
  {
   "cell_type": "code",
   "execution_count": 15,
   "metadata": {},
   "outputs": [
    {
     "data": {
      "text/html": [
       "<div>\n",
       "<style scoped>\n",
       "    .dataframe tbody tr th:only-of-type {\n",
       "        vertical-align: middle;\n",
       "    }\n",
       "\n",
       "    .dataframe tbody tr th {\n",
       "        vertical-align: top;\n",
       "    }\n",
       "\n",
       "    .dataframe thead th {\n",
       "        text-align: right;\n",
       "    }\n",
       "</style>\n",
       "<table border=\"1\" class=\"dataframe\">\n",
       "  <thead>\n",
       "    <tr style=\"text-align: right;\">\n",
       "      <th></th>\n",
       "      <th>Variable</th>\n",
       "      <th>Description</th>\n",
       "    </tr>\n",
       "  </thead>\n",
       "  <tbody>\n",
       "    <tr>\n",
       "      <th>1</th>\n",
       "      <td>actualdpdtolerance_344P</td>\n",
       "      <td>dpd of client with tolerance.</td>\n",
       "    </tr>\n",
       "    <tr>\n",
       "      <th>11</th>\n",
       "      <td>amtdepositbalance_4809441A</td>\n",
       "      <td>deposit balance of client.</td>\n",
       "    </tr>\n",
       "    <tr>\n",
       "      <th>12</th>\n",
       "      <td>amtdepositincoming_4809444A</td>\n",
       "      <td>amount of incoming deposits to client's account.</td>\n",
       "    </tr>\n",
       "    <tr>\n",
       "      <th>13</th>\n",
       "      <td>amtdepositoutgoing_4809442A</td>\n",
       "      <td>amount of outgoing deposits from client's acco...</td>\n",
       "    </tr>\n",
       "    <tr>\n",
       "      <th>20</th>\n",
       "      <td>applicationcnt_361L</td>\n",
       "      <td>number of applications associated with the sam...</td>\n",
       "    </tr>\n",
       "    <tr>\n",
       "      <th>...</th>\n",
       "      <td>...</td>\n",
       "      <td>...</td>\n",
       "    </tr>\n",
       "    <tr>\n",
       "      <th>438</th>\n",
       "      <td>sex_738L</td>\n",
       "      <td>gender of the client.</td>\n",
       "    </tr>\n",
       "    <tr>\n",
       "      <th>450</th>\n",
       "      <td>totalamount_503A</td>\n",
       "      <td>total amount of active secured credit for a cl...</td>\n",
       "    </tr>\n",
       "    <tr>\n",
       "      <th>459</th>\n",
       "      <td>totalsettled_863A</td>\n",
       "      <td>sum of all payments made by the client.</td>\n",
       "    </tr>\n",
       "    <tr>\n",
       "      <th>463</th>\n",
       "      <td>typesuite_864L</td>\n",
       "      <td>persons accompanying the client during the loa...</td>\n",
       "    </tr>\n",
       "    <tr>\n",
       "      <th>464</th>\n",
       "      <td>validfrom_1069D</td>\n",
       "      <td>date since the client has an active campaign.</td>\n",
       "    </tr>\n",
       "  </tbody>\n",
       "</table>\n",
       "<p>86 rows × 2 columns</p>\n",
       "</div>"
      ],
      "text/plain": [
       "                        Variable  \\\n",
       "1        actualdpdtolerance_344P   \n",
       "11    amtdepositbalance_4809441A   \n",
       "12   amtdepositincoming_4809444A   \n",
       "13   amtdepositoutgoing_4809442A   \n",
       "20           applicationcnt_361L   \n",
       "..                           ...   \n",
       "438                     sex_738L   \n",
       "450             totalamount_503A   \n",
       "459            totalsettled_863A   \n",
       "463               typesuite_864L   \n",
       "464              validfrom_1069D   \n",
       "\n",
       "                                           Description  \n",
       "1                        dpd of client with tolerance.  \n",
       "11                          deposit balance of client.  \n",
       "12    amount of incoming deposits to client's account.  \n",
       "13   amount of outgoing deposits from client's acco...  \n",
       "20   number of applications associated with the sam...  \n",
       "..                                                 ...  \n",
       "438                              gender of the client.  \n",
       "450  total amount of active secured credit for a cl...  \n",
       "459            sum of all payments made by the client.  \n",
       "463  persons accompanying the client during the loa...  \n",
       "464      date since the client has an active campaign.  \n",
       "\n",
       "[86 rows x 2 columns]"
      ]
     },
     "execution_count": 15,
     "metadata": {},
     "output_type": "execute_result"
    }
   ],
   "source": [
    "filtered_df = df[df[\"Description\"].str.contains(\"cli\")]\n",
    "\n",
    "filtered_df\n"
   ]
  }
 ],
 "metadata": {
  "kernelspec": {
   "display_name": "phase1",
   "language": "python",
   "name": "python3"
  },
  "language_info": {
   "codemirror_mode": {
    "name": "ipython",
    "version": 3
   },
   "file_extension": ".py",
   "mimetype": "text/x-python",
   "name": "python",
   "nbconvert_exporter": "python",
   "pygments_lexer": "ipython3",
   "version": "3.9.18"
  },
  "orig_nbformat": 4
 },
 "nbformat": 4,
 "nbformat_minor": 2
}
